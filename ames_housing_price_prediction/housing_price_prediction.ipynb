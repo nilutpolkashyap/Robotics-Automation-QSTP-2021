{
 "cells": [
  {
   "cell_type": "code",
   "execution_count": 1,
   "metadata": {},
   "outputs": [],
   "source": [
    "import tensorflow as tf\n",
    "from tensorflow import keras\n",
    "from tensorflow.keras import layers\n",
    "import pandas as pd\n",
    "import numpy as np\n",
    "import matplotlib.pyplot as plt\n",
    "import seaborn as sns"
   ]
  },
  {
   "cell_type": "code",
   "execution_count": 2,
   "metadata": {},
   "outputs": [],
   "source": [
    "df = pd.read_csv('AmesHousing.csv')"
   ]
  },
  {
   "cell_type": "code",
   "execution_count": 3,
   "metadata": {},
   "outputs": [
    {
     "data": {
      "text/html": [
       "<div>\n",
       "<style scoped>\n",
       "    .dataframe tbody tr th:only-of-type {\n",
       "        vertical-align: middle;\n",
       "    }\n",
       "\n",
       "    .dataframe tbody tr th {\n",
       "        vertical-align: top;\n",
       "    }\n",
       "\n",
       "    .dataframe thead th {\n",
       "        text-align: right;\n",
       "    }\n",
       "</style>\n",
       "<table border=\"1\" class=\"dataframe\">\n",
       "  <thead>\n",
       "    <tr style=\"text-align: right;\">\n",
       "      <th></th>\n",
       "      <th>Order</th>\n",
       "      <th>PID</th>\n",
       "      <th>MS SubClass</th>\n",
       "      <th>MS Zoning</th>\n",
       "      <th>Lot Frontage</th>\n",
       "      <th>Lot Area</th>\n",
       "      <th>Street</th>\n",
       "      <th>Alley</th>\n",
       "      <th>Lot Shape</th>\n",
       "      <th>Land Contour</th>\n",
       "      <th>...</th>\n",
       "      <th>Pool Area</th>\n",
       "      <th>Pool QC</th>\n",
       "      <th>Fence</th>\n",
       "      <th>Misc Feature</th>\n",
       "      <th>Misc Val</th>\n",
       "      <th>Mo Sold</th>\n",
       "      <th>Yr Sold</th>\n",
       "      <th>Sale Type</th>\n",
       "      <th>Sale Condition</th>\n",
       "      <th>SalePrice</th>\n",
       "    </tr>\n",
       "  </thead>\n",
       "  <tbody>\n",
       "    <tr>\n",
       "      <th>0</th>\n",
       "      <td>1</td>\n",
       "      <td>526301100</td>\n",
       "      <td>20</td>\n",
       "      <td>RL</td>\n",
       "      <td>141.0</td>\n",
       "      <td>31770</td>\n",
       "      <td>Pave</td>\n",
       "      <td>NaN</td>\n",
       "      <td>IR1</td>\n",
       "      <td>Lvl</td>\n",
       "      <td>...</td>\n",
       "      <td>0</td>\n",
       "      <td>NaN</td>\n",
       "      <td>NaN</td>\n",
       "      <td>NaN</td>\n",
       "      <td>0</td>\n",
       "      <td>5</td>\n",
       "      <td>2010</td>\n",
       "      <td>WD</td>\n",
       "      <td>Normal</td>\n",
       "      <td>215000</td>\n",
       "    </tr>\n",
       "    <tr>\n",
       "      <th>1</th>\n",
       "      <td>2</td>\n",
       "      <td>526350040</td>\n",
       "      <td>20</td>\n",
       "      <td>RH</td>\n",
       "      <td>80.0</td>\n",
       "      <td>11622</td>\n",
       "      <td>Pave</td>\n",
       "      <td>NaN</td>\n",
       "      <td>Reg</td>\n",
       "      <td>Lvl</td>\n",
       "      <td>...</td>\n",
       "      <td>0</td>\n",
       "      <td>NaN</td>\n",
       "      <td>MnPrv</td>\n",
       "      <td>NaN</td>\n",
       "      <td>0</td>\n",
       "      <td>6</td>\n",
       "      <td>2010</td>\n",
       "      <td>WD</td>\n",
       "      <td>Normal</td>\n",
       "      <td>105000</td>\n",
       "    </tr>\n",
       "    <tr>\n",
       "      <th>2</th>\n",
       "      <td>3</td>\n",
       "      <td>526351010</td>\n",
       "      <td>20</td>\n",
       "      <td>RL</td>\n",
       "      <td>81.0</td>\n",
       "      <td>14267</td>\n",
       "      <td>Pave</td>\n",
       "      <td>NaN</td>\n",
       "      <td>IR1</td>\n",
       "      <td>Lvl</td>\n",
       "      <td>...</td>\n",
       "      <td>0</td>\n",
       "      <td>NaN</td>\n",
       "      <td>NaN</td>\n",
       "      <td>Gar2</td>\n",
       "      <td>12500</td>\n",
       "      <td>6</td>\n",
       "      <td>2010</td>\n",
       "      <td>WD</td>\n",
       "      <td>Normal</td>\n",
       "      <td>172000</td>\n",
       "    </tr>\n",
       "    <tr>\n",
       "      <th>3</th>\n",
       "      <td>4</td>\n",
       "      <td>526353030</td>\n",
       "      <td>20</td>\n",
       "      <td>RL</td>\n",
       "      <td>93.0</td>\n",
       "      <td>11160</td>\n",
       "      <td>Pave</td>\n",
       "      <td>NaN</td>\n",
       "      <td>Reg</td>\n",
       "      <td>Lvl</td>\n",
       "      <td>...</td>\n",
       "      <td>0</td>\n",
       "      <td>NaN</td>\n",
       "      <td>NaN</td>\n",
       "      <td>NaN</td>\n",
       "      <td>0</td>\n",
       "      <td>4</td>\n",
       "      <td>2010</td>\n",
       "      <td>WD</td>\n",
       "      <td>Normal</td>\n",
       "      <td>244000</td>\n",
       "    </tr>\n",
       "    <tr>\n",
       "      <th>4</th>\n",
       "      <td>5</td>\n",
       "      <td>527105010</td>\n",
       "      <td>60</td>\n",
       "      <td>RL</td>\n",
       "      <td>74.0</td>\n",
       "      <td>13830</td>\n",
       "      <td>Pave</td>\n",
       "      <td>NaN</td>\n",
       "      <td>IR1</td>\n",
       "      <td>Lvl</td>\n",
       "      <td>...</td>\n",
       "      <td>0</td>\n",
       "      <td>NaN</td>\n",
       "      <td>MnPrv</td>\n",
       "      <td>NaN</td>\n",
       "      <td>0</td>\n",
       "      <td>3</td>\n",
       "      <td>2010</td>\n",
       "      <td>WD</td>\n",
       "      <td>Normal</td>\n",
       "      <td>189900</td>\n",
       "    </tr>\n",
       "  </tbody>\n",
       "</table>\n",
       "<p>5 rows × 82 columns</p>\n",
       "</div>"
      ],
      "text/plain": [
       "   Order        PID  MS SubClass MS Zoning  Lot Frontage  Lot Area Street  \\\n",
       "0      1  526301100           20        RL         141.0     31770   Pave   \n",
       "1      2  526350040           20        RH          80.0     11622   Pave   \n",
       "2      3  526351010           20        RL          81.0     14267   Pave   \n",
       "3      4  526353030           20        RL          93.0     11160   Pave   \n",
       "4      5  527105010           60        RL          74.0     13830   Pave   \n",
       "\n",
       "  Alley Lot Shape Land Contour  ... Pool Area Pool QC  Fence Misc Feature  \\\n",
       "0   NaN       IR1          Lvl  ...         0     NaN    NaN          NaN   \n",
       "1   NaN       Reg          Lvl  ...         0     NaN  MnPrv          NaN   \n",
       "2   NaN       IR1          Lvl  ...         0     NaN    NaN         Gar2   \n",
       "3   NaN       Reg          Lvl  ...         0     NaN    NaN          NaN   \n",
       "4   NaN       IR1          Lvl  ...         0     NaN  MnPrv          NaN   \n",
       "\n",
       "  Misc Val Mo Sold Yr Sold Sale Type  Sale Condition  SalePrice  \n",
       "0        0       5    2010       WD           Normal     215000  \n",
       "1        0       6    2010       WD           Normal     105000  \n",
       "2    12500       6    2010       WD           Normal     172000  \n",
       "3        0       4    2010       WD           Normal     244000  \n",
       "4        0       3    2010       WD           Normal     189900  \n",
       "\n",
       "[5 rows x 82 columns]"
      ]
     },
     "execution_count": 3,
     "metadata": {},
     "output_type": "execute_result"
    }
   ],
   "source": [
    "df.head()"
   ]
  },
  {
   "cell_type": "code",
   "execution_count": 4,
   "metadata": {},
   "outputs": [],
   "source": [
    "df.drop(['Order', 'PID'], axis=1, inplace=True)"
   ]
  },
  {
   "cell_type": "code",
   "execution_count": 8,
   "metadata": {},
   "outputs": [
    {
     "data": {
      "text/plain": [
       "<AxesSubplot:xlabel='SalePrice'>"
      ]
     },
     "execution_count": 8,
     "metadata": {},
     "output_type": "execute_result"
    },
    {
     "data": {
      "image/png": "[encoded data removed]",
      "text/plain": [
       "<Figure size 504x288 with 1 Axes>"
      ]
     },
     "metadata": {
      "needs_background": "light"
     },
     "output_type": "display_data"
    }
   ],
   "source": [
    "fig, ax = plt.subplots(figsize=(7,4))\n",
    "sns.distplot(df['SalePrice'], kde=False, ax=ax)"
   ]
  },
  {
   "cell_type": "code",
   "execution_count": 10,
   "metadata": {},
   "outputs": [
    {
     "name": "stdout",
     "output_type": "stream",
     "text": [
      "count      2,930.0\n",
      "mean     180,796.1\n",
      "std       79,886.7\n",
      "min       12,789.0\n",
      "25%      129,500.0\n",
      "50%      160,000.0\n",
      "75%      213,500.0\n",
      "max      755,000.0\n",
      "Name: SalePrice, dtype: object\n"
     ]
    }
   ],
   "source": [
    "print(df['SalePrice'].describe().apply(lambda x: '{:,.1f}'.format(x)))"
   ]
  },
  {
   "cell_type": "code",
   "execution_count": 17,
   "metadata": {},
   "outputs": [
    {
     "name": "stdout",
     "output_type": "stream",
     "text": [
      "            Column  # of missing values  % of missing values\n",
      "0          Pool QC                 2917            99.556314\n",
      "1     Misc Feature                 2824            96.382253\n",
      "2            Alley                 2732            93.242321\n",
      "3            Fence                 2358            80.477816\n",
      "4     Fireplace Qu                 1422            48.532423\n",
      "5     Lot Frontage                  490            16.723549\n",
      "6      Garage Cond                  159             5.426621\n",
      "7      Garage Qual                  159             5.426621\n",
      "8    Garage Finish                  159             5.426621\n",
      "9    Garage Yr Blt                  159             5.426621\n",
      "10     Garage Type                  157             5.358362\n",
      "11   Bsmt Exposure                   83             2.832765\n",
      "12  BsmtFin Type 2                   81             2.764505\n",
      "13  BsmtFin Type 1                   80             2.730375\n",
      "14       Bsmt Qual                   80             2.730375\n",
      "15       Bsmt Cond                   80             2.730375\n",
      "16    Mas Vnr Area                   23             0.784983\n",
      "17    Mas Vnr Type                   23             0.784983\n",
      "18  Bsmt Half Bath                    2             0.068259\n",
      "19  Bsmt Full Bath                    2             0.068259\n",
      "20   Total Bsmt SF                    1             0.034130\n",
      "21     Bsmt Unf SF                    1             0.034130\n",
      "22     Garage Cars                    1             0.034130\n",
      "23     Garage Area                    1             0.034130\n",
      "24    BsmtFin SF 2                    1             0.034130\n",
      "25    BsmtFin SF 1                    1             0.034130\n",
      "26      Electrical                    1             0.034130\n"
     ]
    }
   ],
   "source": [
    "missing_values = pd.DataFrame({\n",
    "    'Column': df.columns.values,\n",
    "    '# of missing values': df.isna().sum().values,\n",
    "    '% of missing values': 100 * df.isna().sum().values / len(df),\n",
    "})\n",
    "\n",
    "missing_values = missing_values[missing_values['# of missing values'] > 0]\n",
    "print(missing_values.sort_values(by='# of missing values', \n",
    "                                 ascending=False\n",
    "                                ).reset_index(drop=True))"
   ]
  },
  {
   "cell_type": "code",
   "execution_count": 18,
   "metadata": {},
   "outputs": [],
   "source": [
    "df.drop(['Pool QC', 'Misc Feature', 'Alley', 'Fence', 'Fireplace Qu'], \n",
    "        axis=1, inplace=True)"
   ]
  },
  {
   "cell_type": "code",
   "execution_count": 19,
   "metadata": {},
   "outputs": [
    {
     "name": "stdout",
     "output_type": "stream",
     "text": [
      "Lot Frontage\n",
      "[141.  80.  81.  93.  74.]\n",
      "******************************\n",
      "Mas Vnr Type\n",
      "['Stone' 'None' 'BrkFace' nan 'BrkCmn']\n",
      "******************************\n",
      "Mas Vnr Area\n",
      "[112.   0. 108.  20. 603.]\n",
      "******************************\n",
      "Bsmt Qual\n",
      "['TA' 'Gd' 'Ex' nan 'Fa']\n",
      "******************************\n",
      "Bsmt Cond\n",
      "['Gd' 'TA' nan 'Po' 'Fa']\n",
      "******************************\n",
      "Bsmt Exposure\n",
      "['Gd' 'No' 'Mn' 'Av' nan]\n",
      "******************************\n",
      "BsmtFin Type 1\n",
      "['BLQ' 'Rec' 'ALQ' 'GLQ' 'Unf']\n",
      "******************************\n",
      "BsmtFin SF 1\n",
      "[ 639.  468.  923. 1065.  791.]\n",
      "******************************\n",
      "BsmtFin Type 2\n",
      "['Unf' 'LwQ' 'BLQ' 'Rec' nan]\n",
      "******************************\n",
      "BsmtFin SF 2\n",
      "[   0.  144. 1120.  163.  168.]\n",
      "******************************\n",
      "Bsmt Unf SF\n",
      "[ 441.  270.  406. 1045.  137.]\n",
      "******************************\n",
      "Total Bsmt SF\n",
      "[1080.  882. 1329. 2110.  928.]\n",
      "******************************\n",
      "Electrical\n",
      "['SBrkr' 'FuseA' 'FuseF' 'FuseP' nan]\n",
      "******************************\n",
      "Bsmt Full Bath\n",
      "[ 1.  0.  2.  3. nan]\n",
      "******************************\n",
      "Bsmt Half Bath\n",
      "[ 0.  1. nan  2.]\n",
      "******************************\n",
      "Garage Type\n",
      "['Attchd' 'BuiltIn' 'Basment' 'Detchd' nan]\n",
      "******************************\n",
      "Garage Yr Blt\n",
      "[1960. 1961. 1958. 1968. 1997.]\n",
      "******************************\n",
      "Garage Finish\n",
      "['Fin' 'Unf' 'RFn' nan]\n",
      "******************************\n",
      "Garage Cars\n",
      "[2. 1. 3. 0. 4.]\n",
      "******************************\n",
      "Garage Area\n",
      "[528. 730. 312. 522. 482.]\n",
      "******************************\n",
      "Garage Qual\n",
      "['TA' nan 'Fa' 'Gd' 'Ex']\n",
      "******************************\n",
      "Garage Cond\n",
      "['TA' nan 'Fa' 'Gd' 'Ex']\n",
      "******************************\n"
     ]
    }
   ],
   "source": [
    "cols_with_missing_values = df.columns[df.isna().sum() > 0]\n",
    "for col in cols_with_missing_values:\n",
    "    print(col)\n",
    "    print(df[col].unique()[:5])\n",
    "    print('*'*30)"
   ]
  },
  {
   "cell_type": "code",
   "execution_count": 20,
   "metadata": {},
   "outputs": [],
   "source": [
    "num_with_missing = ['Lot Frontage', 'Mas Vnr Area', 'BsmtFin SF 1', 'BsmtFin SF 2', \n",
    "                    'Bsmt Unf SF', 'Total Bsmt SF', 'Bsmt Full Bath', 'Bsmt Half Bath', \n",
    "                    'Garage Yr Blt', 'Garage Cars', 'Garage Area']\n",
    "\n",
    "for n_col in num_with_missing:\n",
    "    df[n_col] = df[n_col].fillna(df[n_col].mean())"
   ]
  },
  {
   "cell_type": "code",
   "execution_count": 21,
   "metadata": {},
   "outputs": [],
   "source": [
    "cat_with_missing = [x for x in cols_with_missing_values if x not in num_with_missing]\n",
    "\n",
    "for c_col in cat_with_missing:\n",
    "    df[c_col] = df[c_col].fillna(df[c_col].mode().to_numpy()[0])"
   ]
  },
  {
   "cell_type": "code",
   "execution_count": 22,
   "metadata": {},
   "outputs": [
    {
     "name": "stdout",
     "output_type": "stream",
     "text": [
      "             Column Data type\n",
      "0       MS SubClass     int64\n",
      "1      Lot Frontage   float64\n",
      "2          Lot Area     int64\n",
      "3      Overall Qual     int64\n",
      "4      Overall Cond     int64\n",
      "5        Year Built     int64\n",
      "6    Year Remod/Add     int64\n",
      "7      Mas Vnr Area   float64\n",
      "8      BsmtFin SF 1   float64\n",
      "9      BsmtFin SF 2   float64\n",
      "10      Bsmt Unf SF   float64\n",
      "11    Total Bsmt SF   float64\n",
      "12       1st Flr SF     int64\n",
      "13       2nd Flr SF     int64\n",
      "14  Low Qual Fin SF     int64\n",
      "15      Gr Liv Area     int64\n",
      "16   Bsmt Full Bath   float64\n",
      "17   Bsmt Half Bath   float64\n",
      "18        Full Bath     int64\n",
      "19        Half Bath     int64\n",
      "20    Bedroom AbvGr     int64\n",
      "21    Kitchen AbvGr     int64\n",
      "22    TotRms AbvGrd     int64\n",
      "23       Fireplaces     int64\n",
      "24    Garage Yr Blt   float64\n",
      "25      Garage Cars   float64\n",
      "26      Garage Area   float64\n",
      "27     Wood Deck SF     int64\n",
      "28    Open Porch SF     int64\n",
      "29   Enclosed Porch     int64\n",
      "30       3Ssn Porch     int64\n",
      "31     Screen Porch     int64\n",
      "32        Pool Area     int64\n",
      "33         Misc Val     int64\n",
      "34          Mo Sold     int64\n",
      "35          Yr Sold     int64\n",
      "36        SalePrice     int64\n"
     ]
    }
   ],
   "source": [
    "data_types = pd.DataFrame({\n",
    "    'Column': df.select_dtypes(exclude='object').columns.values,\n",
    "    'Data type': df.select_dtypes(exclude='object').dtypes.values\n",
    "})\n",
    "\n",
    "print(data_types)"
   ]
  },
  {
   "cell_type": "code",
   "execution_count": 23,
   "metadata": {},
   "outputs": [
    {
     "data": {
      "text/plain": [
       "[20, 60, 120, 50, 85, 160, 80, 30, 90, 190, 45, 70, 75, 40, 180, 150]"
      ]
     },
     "execution_count": 23,
     "metadata": {},
     "output_type": "execute_result"
    }
   ],
   "source": [
    "df['MS SubClass'].unique().tolist()"
   ]
  },
  {
   "cell_type": "code",
   "execution_count": 24,
   "metadata": {},
   "outputs": [],
   "source": [
    "df['MS SubClass'] = df['MS SubClass'].astype(str)"
   ]
  },
  {
   "cell_type": "code",
   "execution_count": 25,
   "metadata": {},
   "outputs": [],
   "source": [
    "selected_vars = ['MS SubClass', 'MS Zoning', 'Lot Frontage', 'Lot Area',\n",
    "                 'Neighborhood', 'Overall Qual', 'Overall Cond',\n",
    "                 'Year Built', 'Total Bsmt SF', '1st Flr SF', '2nd Flr SF',\n",
    "                 'Gr Liv Area', 'Full Bath', 'Half Bath', 'Bedroom AbvGr', \n",
    "                 'Kitchen AbvGr', 'TotRms AbvGrd', 'Garage Area', \n",
    "                 'Pool Area', 'SalePrice']\n",
    "\n",
    "df = df[selected_vars]"
   ]
  },
  {
   "cell_type": "code",
   "execution_count": 26,
   "metadata": {},
   "outputs": [],
   "source": [
    "df = pd.get_dummies(df)"
   ]
  },
  {
   "cell_type": "code",
   "execution_count": 27,
   "metadata": {},
   "outputs": [],
   "source": [
    "train_df = df.sample(frac=0.8, random_state=9)\n",
    "test_df = df.drop(train_df.index)"
   ]
  },
  {
   "cell_type": "code",
   "execution_count": 28,
   "metadata": {},
   "outputs": [],
   "source": [
    "train_labels = train_df.pop('SalePrice')\n",
    "test_labels = test_df.pop('SalePrice')"
   ]
  },
  {
   "cell_type": "code",
   "execution_count": 29,
   "metadata": {},
   "outputs": [],
   "source": [
    "predictor_vars = train_df.columns\n",
    "\n",
    "for col in predictor_vars:\n",
    "    # Calculating variable mean and std from training data\n",
    "    col_mean = train_df[col].mean()\n",
    "    col_std = train_df[col].std()\n",
    "    if col_std == 0:\n",
    "        col_std = 1e-20\n",
    "    train_df[col] = (train_df[col] - col_mean) / col_std\n",
    "    test_df[col] = (test_df[col] - col_mean) / col_std    "
   ]
  },
  {
   "cell_type": "code",
   "execution_count": 30,
   "metadata": {},
   "outputs": [],
   "source": [
    "import matplotlib.pyplot as plt\n",
    "from matplotlib import ticker\n",
    "import numpy as np\n",
    "import pandas as pd\n",
    "import seaborn as sns\n",
    "\n",
    "import tensorflow as tf\n",
    "from tensorflow import keras\n",
    "from tensorflow.keras import layers"
   ]
  },
  {
   "cell_type": "code",
   "execution_count": 31,
   "metadata": {},
   "outputs": [],
   "source": [
    "model = keras.Sequential([\n",
    "    layers.Dense(64, activation='relu', input_shape=[train_df.shape[1]]),\n",
    "    layers.Dropout(0.3, seed=2),\n",
    "    layers.Dense(64, activation='swish'),\n",
    "    layers.Dense(64, activation='relu'),\n",
    "    layers.Dense(64, activation='swish'),\n",
    "    layers.Dense(64, activation='relu'),\n",
    "    layers.Dense(64, activation='swish'),\n",
    "    layers.Dense(1)\n",
    "])"
   ]
  },
  {
   "cell_type": "code",
   "execution_count": 32,
   "metadata": {},
   "outputs": [],
   "source": [
    "optimizer = tf.keras.optimizers.RMSprop(learning_rate=0.001)\n",
    "\n",
    "model.compile(loss=tf.keras.losses.MeanSquaredError(),\n",
    "              optimizer=optimizer,\n",
    "              metrics=['mae'])"
   ]
  },
  {
   "cell_type": "code",
   "execution_count": 33,
   "metadata": {},
   "outputs": [
    {
     "name": "stdout",
     "output_type": "stream",
     "text": [
      "Epoch 1/70\n",
      "59/59 [==============================] - 5s 16ms/step - loss: 36767744000.0000 - mae: 175665.0938 - val_loss: 27989372928.0000 - val_mae: 151432.7969\n",
      "Epoch 2/70\n",
      "59/59 [==============================] - 1s 9ms/step - loss: 8508916224.0000 - mae: 69967.2188 - val_loss: 1483795456.0000 - val_mae: 26079.1250\n",
      "Epoch 3/70\n",
      "59/59 [==============================] - 0s 8ms/step - loss: 2278685696.0000 - mae: 31251.8340 - val_loss: 1168571392.0000 - val_mae: 21094.4980\n",
      "Epoch 4/70\n",
      "59/59 [==============================] - 0s 8ms/step - loss: 1952770048.0000 - mae: 29866.5977 - val_loss: 1087195008.0000 - val_mae: 20312.4043\n",
      "Epoch 5/70\n",
      "59/59 [==============================] - 1s 10ms/step - loss: 1929357568.0000 - mae: 28029.6855 - val_loss: 1222956160.0000 - val_mae: 21115.7266\n",
      "Epoch 6/70\n",
      "59/59 [==============================] - 1s 9ms/step - loss: 1682296064.0000 - mae: 27044.4707 - val_loss: 1041932736.0000 - val_mae: 20050.7402\n",
      "Epoch 7/70\n",
      "59/59 [==============================] - 1s 9ms/step - loss: 1720369280.0000 - mae: 26424.2832 - val_loss: 1547678848.0000 - val_mae: 25474.9238\n",
      "Epoch 8/70\n",
      "59/59 [==============================] - 0s 8ms/step - loss: 1850085376.0000 - mae: 27039.2129 - val_loss: 1110199424.0000 - val_mae: 19908.8867\n",
      "Epoch 9/70\n",
      "59/59 [==============================] - 0s 8ms/step - loss: 1591534720.0000 - mae: 25633.0352 - val_loss: 1274140800.0000 - val_mae: 21571.4707\n",
      "Epoch 10/70\n",
      "59/59 [==============================] - 1s 9ms/step - loss: 1573158144.0000 - mae: 24994.5664 - val_loss: 1050790464.0000 - val_mae: 18619.3555\n",
      "Epoch 11/70\n",
      "59/59 [==============================] - 1s 9ms/step - loss: 1630779008.0000 - mae: 25668.5625 - val_loss: 1128902912.0000 - val_mae: 19549.7266\n",
      "Epoch 12/70\n",
      "59/59 [==============================] - 0s 8ms/step - loss: 1456327424.0000 - mae: 24406.9551 - val_loss: 1113120768.0000 - val_mae: 19059.5801\n",
      "Epoch 13/70\n",
      "59/59 [==============================] - 0s 8ms/step - loss: 1418291712.0000 - mae: 24824.9316 - val_loss: 949209664.0000 - val_mae: 18194.4316\n",
      "Epoch 14/70\n",
      "59/59 [==============================] - 0s 8ms/step - loss: 1466844672.0000 - mae: 24493.6582 - val_loss: 1009201920.0000 - val_mae: 18169.5488\n",
      "Epoch 15/70\n",
      "59/59 [==============================] - 1s 9ms/step - loss: 1283395456.0000 - mae: 23769.3926 - val_loss: 954550720.0000 - val_mae: 19331.7051\n",
      "Epoch 16/70\n",
      "59/59 [==============================] - 1s 9ms/step - loss: 1302329984.0000 - mae: 23012.7227 - val_loss: 1004907840.0000 - val_mae: 18143.6777\n",
      "Epoch 17/70\n",
      "59/59 [==============================] - 1s 9ms/step - loss: 1313829248.0000 - mae: 23536.5840 - val_loss: 1081695104.0000 - val_mae: 19283.1309\n",
      "Epoch 18/70\n",
      "59/59 [==============================] - 0s 8ms/step - loss: 1443110912.0000 - mae: 23807.9453 - val_loss: 1375941632.0000 - val_mae: 22206.4590\n",
      "Epoch 19/70\n",
      "59/59 [==============================] - 0s 8ms/step - loss: 1348388224.0000 - mae: 23643.8516 - val_loss: 924296576.0000 - val_mae: 17810.2246\n",
      "Epoch 20/70\n",
      "59/59 [==============================] - 0s 8ms/step - loss: 1403675008.0000 - mae: 23549.6738 - val_loss: 1257637632.0000 - val_mae: 21461.7402\n",
      "Epoch 21/70\n",
      "59/59 [==============================] - 1s 10ms/step - loss: 1443260160.0000 - mae: 23273.3770 - val_loss: 1000003008.0000 - val_mae: 17891.1641\n",
      "Epoch 22/70\n",
      "59/59 [==============================] - 1s 10ms/step - loss: 1185253504.0000 - mae: 22847.9316 - val_loss: 930798592.0000 - val_mae: 17926.9043\n",
      "Epoch 23/70\n",
      "59/59 [==============================] - 1s 10ms/step - loss: 1199597696.0000 - mae: 22569.6250 - val_loss: 1000670720.0000 - val_mae: 17909.2188\n",
      "Epoch 24/70\n",
      "59/59 [==============================] - 1s 9ms/step - loss: 1363438208.0000 - mae: 23247.1250 - val_loss: 1107109504.0000 - val_mae: 19135.2266\n",
      "Epoch 25/70\n",
      "59/59 [==============================] - 0s 8ms/step - loss: 1243644544.0000 - mae: 22064.1016 - val_loss: 1039238592.0000 - val_mae: 18091.1641\n",
      "Epoch 26/70\n",
      "59/59 [==============================] - 0s 8ms/step - loss: 1212498304.0000 - mae: 22380.0215 - val_loss: 936822336.0000 - val_mae: 17373.4199\n",
      "Epoch 27/70\n",
      "59/59 [==============================] - ETA: 0s - loss: 1241737088.0000 - mae: 21972.91 - 0s 8ms/step - loss: 1221787392.0000 - mae: 22073.6836 - val_loss: 965346688.0000 - val_mae: 17569.9316\n",
      "Epoch 28/70\n",
      "59/59 [==============================] - 0s 8ms/step - loss: 1285238528.0000 - mae: 22288.7363 - val_loss: 1262590720.0000 - val_mae: 21028.6250\n",
      "Epoch 29/70\n",
      "59/59 [==============================] - 0s 8ms/step - loss: 1247928832.0000 - mae: 22133.2695 - val_loss: 1026690944.0000 - val_mae: 17945.1230\n",
      "Epoch 30/70\n",
      "59/59 [==============================] - 0s 8ms/step - loss: 1216546176.0000 - mae: 21626.8008 - val_loss: 1018907456.0000 - val_mae: 17949.7363\n",
      "Epoch 31/70\n",
      "59/59 [==============================] - 1s 10ms/step - loss: 1178592768.0000 - mae: 21987.6133 - val_loss: 937579008.0000 - val_mae: 17233.2988\n",
      "Epoch 32/70\n",
      "59/59 [==============================] - 1s 9ms/step - loss: 1134919552.0000 - mae: 21701.1074 - val_loss: 1137032832.0000 - val_mae: 20170.1250\n",
      "Epoch 33/70\n",
      "59/59 [==============================] - 1s 9ms/step - loss: 1232488832.0000 - mae: 21822.9316 - val_loss: 959751424.0000 - val_mae: 17269.1855\n",
      "Epoch 34/70\n",
      "59/59 [==============================] - 1s 9ms/step - loss: 1169908608.0000 - mae: 21127.4531 - val_loss: 1014675072.0000 - val_mae: 18260.9375\n",
      "Epoch 35/70\n",
      "59/59 [==============================] - 0s 8ms/step - loss: 1211118720.0000 - mae: 22070.7871 - val_loss: 1035996416.0000 - val_mae: 17935.8086\n",
      "Epoch 36/70\n",
      "59/59 [==============================] - 1s 10ms/step - loss: 1046668736.0000 - mae: 20927.2617 - val_loss: 944574592.0000 - val_mae: 17408.8008\n",
      "Epoch 37/70\n",
      "59/59 [==============================] - 1s 9ms/step - loss: 1108926208.0000 - mae: 21181.1836 - val_loss: 937879168.0000 - val_mae: 17355.7754\n",
      "Epoch 38/70\n",
      "59/59 [==============================] - 0s 8ms/step - loss: 1204896640.0000 - mae: 21459.1133 - val_loss: 917390976.0000 - val_mae: 17768.7012\n",
      "Epoch 39/70\n",
      "59/59 [==============================] - 1s 9ms/step - loss: 1213350912.0000 - mae: 21941.6602 - val_loss: 947727616.0000 - val_mae: 17442.9453\n",
      "Epoch 40/70\n",
      "59/59 [==============================] - 0s 8ms/step - loss: 1085655808.0000 - mae: 21341.8477 - val_loss: 1122249344.0000 - val_mae: 19026.0605\n",
      "Epoch 41/70\n",
      "59/59 [==============================] - 1s 9ms/step - loss: 1146654336.0000 - mae: 21259.3672 - val_loss: 1083841024.0000 - val_mae: 18791.3086\n",
      "Epoch 42/70\n",
      "59/59 [==============================] - 0s 8ms/step - loss: 1236584192.0000 - mae: 21149.7246 - val_loss: 935364928.0000 - val_mae: 17661.5879\n",
      "Epoch 43/70\n",
      "59/59 [==============================] - 1s 8ms/step - loss: 1042929152.0000 - mae: 20564.4551 - val_loss: 975789440.0000 - val_mae: 17678.0781\n",
      "Epoch 44/70\n",
      "59/59 [==============================] - 0s 8ms/step - loss: 996299904.0000 - mae: 20049.3125 - val_loss: 1035450752.0000 - val_mae: 18107.2656\n",
      "Epoch 45/70\n",
      "59/59 [==============================] - 0s 8ms/step - loss: 1086641024.0000 - mae: 20673.8750 - val_loss: 1201226624.0000 - val_mae: 20133.6406\n",
      "Epoch 46/70\n",
      "59/59 [==============================] - 0s 8ms/step - loss: 1032790528.0000 - mae: 20416.3750 - val_loss: 1180804992.0000 - val_mae: 20099.2227\n",
      "Epoch 47/70\n",
      "59/59 [==============================] - 0s 8ms/step - loss: 1052278720.0000 - mae: 20291.2109 - val_loss: 1030467200.0000 - val_mae: 17896.1406\n",
      "Epoch 48/70\n",
      "59/59 [==============================] - 0s 8ms/step - loss: 1088331136.0000 - mae: 20260.6113 - val_loss: 1031226368.0000 - val_mae: 17892.7500\n",
      "Epoch 49/70\n",
      "59/59 [==============================] - 0s 8ms/step - loss: 1055552256.0000 - mae: 20565.2012 - val_loss: 971934080.0000 - val_mae: 17585.2305\n",
      "Epoch 50/70\n",
      "59/59 [==============================] - 0s 8ms/step - loss: 1071812288.0000 - mae: 20409.0137 - val_loss: 1132338816.0000 - val_mae: 19104.9121\n",
      "Epoch 51/70\n",
      "59/59 [==============================] - 0s 8ms/step - loss: 1025526272.0000 - mae: 19943.0430 - val_loss: 928271168.0000 - val_mae: 17485.9531\n",
      "Epoch 52/70\n",
      "59/59 [==============================] - 0s 8ms/step - loss: 973623424.0000 - mae: 19797.9590 - val_loss: 963236864.0000 - val_mae: 17709.6445\n",
      "Epoch 53/70\n",
      "59/59 [==============================] - 1s 9ms/step - loss: 1040187520.0000 - mae: 19912.0078 - val_loss: 994416704.0000 - val_mae: 17642.6250\n",
      "Epoch 54/70\n",
      "59/59 [==============================] - 1s 9ms/step - loss: 975141760.0000 - mae: 19771.5430 - val_loss: 1342628864.0000 - val_mae: 21785.5352\n",
      "Epoch 55/70\n",
      "59/59 [==============================] - 0s 8ms/step - loss: 1026729664.0000 - mae: 19867.4766 - val_loss: 1181273984.0000 - val_mae: 19586.3770\n",
      "Epoch 56/70\n",
      "59/59 [==============================] - 0s 8ms/step - loss: 906276416.0000 - mae: 19783.9102 - val_loss: 944956736.0000 - val_mae: 17455.3203\n",
      "Epoch 57/70\n",
      "59/59 [==============================] - 0s 8ms/step - loss: 1036343296.0000 - mae: 19941.1328 - val_loss: 977798336.0000 - val_mae: 17681.6152\n",
      "Epoch 58/70\n",
      "59/59 [==============================] - 1s 9ms/step - loss: 965595584.0000 - mae: 19750.3672 - val_loss: 967333184.0000 - val_mae: 17632.6113\n",
      "Epoch 59/70\n",
      "59/59 [==============================] - 1s 9ms/step - loss: 989366272.0000 - mae: 19621.5684 - val_loss: 1111880448.0000 - val_mae: 18706.5801\n",
      "Epoch 60/70\n",
      "59/59 [==============================] - 0s 8ms/step - loss: 891543744.0000 - mae: 19333.4258 - val_loss: 999354368.0000 - val_mae: 17470.2266\n",
      "Epoch 61/70\n",
      "59/59 [==============================] - 0s 8ms/step - loss: 907204800.0000 - mae: 19609.3184 - val_loss: 941986368.0000 - val_mae: 17301.2227\n",
      "Epoch 62/70\n",
      "59/59 [==============================] - 1s 9ms/step - loss: 886923904.0000 - mae: 18832.7891 - val_loss: 1067282624.0000 - val_mae: 18753.2715\n",
      "Epoch 63/70\n",
      "59/59 [==============================] - 1s 10ms/step - loss: 908870144.0000 - mae: 19180.4668 - val_loss: 915420224.0000 - val_mae: 17208.7070\n",
      "Epoch 64/70\n",
      "59/59 [==============================] - 0s 8ms/step - loss: 894528704.0000 - mae: 19010.9629 - val_loss: 952603264.0000 - val_mae: 17448.0410\n",
      "Epoch 65/70\n",
      "59/59 [==============================] - 0s 8ms/step - loss: 874765120.0000 - mae: 19410.7891 - val_loss: 965073088.0000 - val_mae: 17405.9375\n",
      "Epoch 66/70\n",
      "59/59 [==============================] - 0s 8ms/step - loss: 969613120.0000 - mae: 18995.6953 - val_loss: 1069730304.0000 - val_mae: 18280.8828\n",
      "Epoch 67/70\n",
      "59/59 [==============================] - 1s 9ms/step - loss: 950904832.0000 - mae: 19152.0742 - val_loss: 1009445248.0000 - val_mae: 17773.5391\n",
      "Epoch 68/70\n",
      "59/59 [==============================] - 1s 9ms/step - loss: 857174720.0000 - mae: 18634.1973 - val_loss: 976421952.0000 - val_mae: 17487.1641\n",
      "Epoch 69/70\n",
      "59/59 [==============================] - 0s 8ms/step - loss: 916769600.0000 - mae: 18908.1152 - val_loss: 2082204544.0000 - val_mae: 30715.9707\n",
      "Epoch 70/70\n",
      "59/59 [==============================] - 0s 8ms/step - loss: 897435136.0000 - mae: 19083.4395 - val_loss: 1039506816.0000 - val_mae: 20346.3574\n"
     ]
    }
   ],
   "source": [
    "history = model.fit(\n",
    "    train_df, train_labels,\n",
    "    epochs=70, validation_split=0.2\n",
    ")"
   ]
  },
  {
   "cell_type": "code",
   "execution_count": 34,
   "metadata": {},
   "outputs": [
    {
     "data": {
      "image/png": "[encoded data removed]",
      "text/plain": [
       "<Figure size 1008x576 with 1 Axes>"
      ]
     },
     "metadata": {
      "needs_background": "light"
     },
     "output_type": "display_data"
    }
   ],
   "source": [
    "model_history = pd.DataFrame(history.history)\n",
    "model_history['epoch'] = history.epoch\n",
    "\n",
    "fig, ax = plt.subplots(figsize=(14,8))\n",
    "num_epochs = model_history.shape[0]\n",
    "ax.plot(np.arange(0, num_epochs), model_history[\"mae\"], \n",
    "        label=\"Training MAE\", lw=3, color='#f4b400')\n",
    "ax.plot(np.arange(0, num_epochs), model_history[\"val_mae\"], \n",
    "        label=\"Validation MAE\", lw=3, color='#0f9d58')\n",
    "ax.legend()\n",
    "plt.tight_layout()\n",
    "plt.show()"
   ]
  },
  {
   "cell_type": "code",
   "execution_count": 35,
   "metadata": {},
   "outputs": [],
   "source": [
    "test_unit = test_df.iloc[[0]]"
   ]
  },
  {
   "cell_type": "code",
   "execution_count": 36,
   "metadata": {},
   "outputs": [],
   "source": [
    "test_pred = model.predict(test_unit).squeeze()"
   ]
  },
  {
   "cell_type": "code",
   "execution_count": 37,
   "metadata": {},
   "outputs": [],
   "source": [
    "test_lbl = test_labels.iloc[0]"
   ]
  },
  {
   "cell_type": "code",
   "execution_count": 38,
   "metadata": {},
   "outputs": [
    {
     "name": "stdout",
     "output_type": "stream",
     "text": [
      "Model prediction = 194565.78\n",
      "Actual value = 215000.00\n"
     ]
    }
   ],
   "source": [
    "print(\"Model prediction = {:.2f}\".format(test_pred))\n",
    "print(\"Actual value = {:.2f}\".format(test_lbl))"
   ]
  },
  {
   "cell_type": "code",
   "execution_count": 39,
   "metadata": {},
   "outputs": [],
   "source": [
    "test_unit = test_df.iloc[[100]]"
   ]
  },
  {
   "cell_type": "code",
   "execution_count": 40,
   "metadata": {},
   "outputs": [
    {
     "name": "stdout",
     "output_type": "stream",
     "text": [
      "Model prediction = 319880.88\n",
      "Actual value = 370878.00\n"
     ]
    }
   ],
   "source": [
    "test_pred = model.predict(test_unit).squeeze()\n",
    "test_lbl = test_labels.iloc[100]\n",
    "print(\"Model prediction = {:.2f}\".format(test_pred))\n",
    "print(\"Actual value = {:.2f}\".format(test_lbl))"
   ]
  },
  {
   "cell_type": "code",
   "execution_count": 41,
   "metadata": {},
   "outputs": [],
   "source": [
    "loss, mae = model.evaluate(test_df, test_labels, verbose=0)"
   ]
  },
  {
   "cell_type": "code",
   "execution_count": 42,
   "metadata": {},
   "outputs": [
    {
     "name": "stdout",
     "output_type": "stream",
     "text": [
      "MAE = 1951471924509488971776.00\n"
     ]
    }
   ],
   "source": [
    "print('MAE = {:.2f}'.format(mae))"
   ]
  },
  {
   "cell_type": "code",
   "execution_count": 43,
   "metadata": {},
   "outputs": [
    {
     "data": {
      "image/png": "[encoded data removed]",
      "text/plain": [
       "<Figure size 1008x576 with 1 Axes>"
      ]
     },
     "metadata": {
      "needs_background": "light"
     },
     "output_type": "display_data"
    }
   ],
   "source": [
    "test_predictions_ = model.predict(test_df).flatten()\n",
    "test_labels_ = test_labels.to_numpy().flatten()\n",
    "fig, ax = plt.subplots(figsize=(14,8))\n",
    "plt.scatter(test_labels_, test_predictions_, alpha=0.6, \n",
    "            color='#ff7043', lw=1, ec='black')\n",
    "lims = [0, max(test_predictions_.max(), test_labels_.max())]\n",
    "plt.plot(lims, lims, lw=1, color='#00acc1')\n",
    "plt.tight_layout()\n",
    "plt.show()"
   ]
  },
  {
   "cell_type": "code",
   "execution_count": null,
   "metadata": {},
   "outputs": [],
   "source": []
  }
 ],
 "metadata": {
  "kernelspec": {
   "display_name": "tfgpu",
   "language": "python",
   "name": "tfgpu"
  },
  "language_info": {
   "codemirror_mode": {
    "name": "ipython",
    "version": 3
   },
   "file_extension": ".py",
   "mimetype": "text/x-python",
   "name": "python",
   "nbconvert_exporter": "python",
   "pygments_lexer": "ipython3",
   "version": "3.7.11"
  }
 },
 "nbformat": 4,
 "nbformat_minor": 4
}
