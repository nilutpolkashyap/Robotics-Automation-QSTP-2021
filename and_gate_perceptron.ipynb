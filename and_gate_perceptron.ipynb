{
 "cells": [
  {
   "cell_type": "code",
   "execution_count": null,
   "metadata": {},
   "outputs": [],
   "source": [
    "from random import choice\n",
    "import numpy as np\n",
    "np.random.seed(1)\n",
    "\n",
    "activation = lambda x: 0 if x < 0 else 1\n",
    "\n",
    "training_data = [ (np.array([0,0,1]), 0),\n",
    "                 (np.array([0,1,1]), 0),\n",
    "                 (np.array([1,0,1]), 0),\n",
    "                 (np.array([1,1,1]), 1),\n",
    "                ]\n",
    "\n",
    "# model parameters\n",
    "learning_rate = 0.2 \n",
    "training_steps = 100\n",
    "\n",
    "# initialize weights \n",
    "W = np.random.rand(3) \n",
    "\n",
    "for i in range(training_steps):\n",
    "    \n",
    "    x, y = choice(training_data)\n",
    "    \n",
    "    l1 = np.dot(W, x)\n",
    "    y_pred = activation(l1)\n",
    "    \n",
    "    error = y - y_pred\n",
    "    update = learning_rate * error * x \n",
    "    W += update\n",
    "\n",
    "# Output after training\n",
    "print(\"Predictions after training\")\n",
    "for x, _ in training_data:\n",
    "    y_pred = np.dot(x, W)\n",
    "    print(\"{}: {}\".format(x[:2], activation(y_pred)))"
   ]
  }
 ],
 "metadata": {
  "kernelspec": {
   "display_name": "Python 3",
   "language": "python",
   "name": "python3"
  },
  "language_info": {
   "codemirror_mode": {
    "name": "ipython",
    "version": 3
   },
   "file_extension": ".py",
   "mimetype": "text/x-python",
   "name": "python",
   "nbconvert_exporter": "python",
   "pygments_lexer": "ipython3",
   "version": "3.7.6"
  }
 },
 "nbformat": 4,
 "nbformat_minor": 4
}
